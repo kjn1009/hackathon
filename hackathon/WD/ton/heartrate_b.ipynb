{
 "cells": [
  {
   "cell_type": "code",
   "execution_count": 3,
   "metadata": {},
   "outputs": [],
   "source": [
    "import os\n",
    "import numpy as np\n",
    "import pandas as pd\n",
    "import tensorflow as tf\n",
    "import csv\n",
    "\n",
    "from tensorflow import keras\n",
    "from tensorflow.keras.utils import to_categorical\n",
    "\n",
    "from keras.models import Sequential\n",
    "from keras.layers import Dense\n",
    "from sklearn.model_selection import train_test_split\n",
    "\n",
    "import matplotlib.pyplot as plt\n",
    "import scipy.stats as stats\n",
    "\n",
    "from sklearn import linear_model\n",
    "from sklearn.metrics import r2_score\n",
    "from sklearn.metrics import f1_score\n",
    "from sklearn.tree import DecisionTreeClassifier\n",
    "from sklearn.linear_model import LogisticRegression\n",
    "from sklearn.feature_selection import SelectFromModel\n",
    "from sklearn.preprocessing import StandardScaler\n",
    "standardise = StandardScaler()\n",
    "\n",
    "from sklearn.metrics import mean_absolute_error\n",
    "from sklearn.metrics import mean_squared_error\n"
   ]
  },
  {
   "cell_type": "code",
   "execution_count": 5,
   "metadata": {},
   "outputs": [],
   "source": [
    "tr1 = pd.read_csv('./HeartRate_StressLevel/Train Data/frequency_domain_features_train.csv')\n",
    "tr2 = pd.read_csv('./HeartRate_StressLevel/Train Data/heart_rate_non_linear_features_train.csv')\n",
    "tr3 = pd.read_csv('./HeartRate_StressLevel/Train Data/time_domain_features_train.csv')\n",
    "\n",
    "st1 = pd.read_csv('./HeartRate_StressLevel/Test Data/frequency_domain_features_test.csv')\n",
    "st2 = pd.read_csv('./HeartRate_StressLevel/Test Data/heart_rate_non_linear_features_test.csv')\n",
    "st3 = pd.read_csv('./HeartRate_StressLevel/Test Data/time_domain_features_test.csv')"
   ]
  },
  {
   "cell_type": "code",
   "execution_count": null,
   "metadata": {},
   "outputs": [],
   "source": [
    "#tr1.isna().any()"
   ]
  },
  {
   "cell_type": "markdown",
   "metadata": {},
   "source": [
    "uuid       False    (식별자)  \n",
    "VLF        False    (Very Low Frequency : 심한 저주파)  \n",
    "VLF_PCT    False    (Percentage of VLF : 전체 power spectrum에서 VLF가 차지하는 정도)  \n",
    "LF         False    (Low Frequency : 저주파)  \n",
    "LF_PCT     False    (Percentage of LF : 전체 power spectrum에서 LF가 차지하는 정도)  \n",
    "LF_NU      False    (정규화된 단위 (Normalized Unit)로 나타낸 LF 구성 요소)  \n",
    "HF         False    (High Frequency : 고주파)  \n",
    "HF_PCT     False    (Percentage of HF : 전체 power spectrum에서 HF가 차지하는 정도)  \n",
    "HF_NU      False    (정규화된 단위 (Normalized Unit)로 나타낸 HF 구성 요소)  \n",
    "TP         False    (Total Power : 전체 파워(주파수 스펙트럼의 총량))  \n",
    "LF_HF      False    (Ratio of LF to HF)  \n",
    "HF_LF      False    (Ratio of HF to LF)  \n",
    "dtype: bool"
   ]
  },
  {
   "cell_type": "code",
   "execution_count": null,
   "metadata": {},
   "outputs": [],
   "source": [
    "#tr2.isna().any()"
   ]
  },
  {
   "cell_type": "markdown",
   "metadata": {},
   "source": [
    "uuid         False  (식별자)  \n",
    "SD1          False  ( Poincaré plot에서 단기 변동성을 나타내는 지표. 일반적으로 RR 간격(심박사이의 시간 간격)의 단기 변동성을 측정)  \n",
    "SD2          False  Poincaré plot에서 장기 변동성을 나타내는 지표. 일반적으로 RR 간격의 장기 변동성을 측정  \n",
    "sampen       False  (Sample Entropy : 시간 시계열 데이터의 복잡성을 측정하기 위한 지표로, 값이 낮을수록 예측 가능성이 높고, 값이 높을수록 복잡성이 큼)  \n",
    "higuci       False  (Higuchi Fractal Dimension : 시간 시계열 데이터의 프랙탈 차원을 측정하여 데이터의 복잡성을 평가)  \n",
    "datasetId    False  (Dataset Identifier)  \n",
    "condition    False  ('no stress', 'interruption', 'time pressure' 등의 조건이나 상황)  \n",
    "dtype: bool "
   ]
  },
  {
   "cell_type": "code",
   "execution_count": null,
   "metadata": {},
   "outputs": [],
   "source": [
    "#tr3.isna().any()"
   ]
  },
  {
   "cell_type": "markdown",
   "metadata": {},
   "source": [
    "MEAN_RR              False  (RR 간격(심박 사이의 시간 간격)의 평균값)  \n",
    "MEDIAN_RR            False  (RR 간격의 중앙값)  \n",
    "SDRR                 False  (RR 간격의 표준 편차, 심박 변동성의 측정 지표 중 하나로 사용됨)  \n",
    "RMSSD                False  (인접한 RR 간격 차이의 제곱 평균의 제곱근, 심박 변동성의 단기 변동성을 측정)  \n",
    "SDSD                 False  (인접한 RR 간격 차이의 표준 편차, 단기 변동성을 측정)  \n",
    "SDRR_RMSSD           False  (SDRR과 RMSSD의 비율)  \n",
    "HR                   False  (HeartRate : 1분당 심박수, bpm)  \n",
    "pNN25                False  (인접한 RR 간격 차이가 25ms를 초과하는 비율)  \n",
    "pNN50                False  (인접한 RR 간격 차이가 50ms를 초과하는 비율)  \n",
    "KURT                 False  (RR 간격의 첨도 (Kurtosis), 데이터 분포의 뾰족함을 측정)  \n",
    "SKEW                 False  (RR 간격의 왜도 (Skewness), 데이터 분포의 비대칭성을 측정)  \n",
    "MEAN_REL_RR          False  (상대 RR 간격의 평균값)  \n",
    "MEDIAN_REL_RR        False  (상대 RR 간격의 중앙값)  \n",
    "SDRR_REL_RR          False  (상대 RR 간격의 표준 편차)  \n",
    "RMSSD_REL_RR         False  (상대 RR 간격 차이의 제곱 평균의 제곱근)  \n",
    "SDSD_REL_RR          False  (상대 RR 간격 차이의 표준 편차)  \n",
    "SDRR_RMSSD_REL_RR    False  (SDRR_REL_RR과 RMSSD_REL_RR의 비율)  \n",
    "KURT_REL_RR          False  (상대 RR 간격의 첨도)  \n",
    "SKEW_REL_RR          False  (상대 RR 간격의 왜도)  \n",
    "uuid                 False  (식별자)  \n",
    "dtype: bool"
   ]
  },
  {
   "cell_type": "code",
   "execution_count": 6,
   "metadata": {},
   "outputs": [],
   "source": [
    "temp1 = pd.merge(tr1, tr2, on='uuid', how='inner')\n",
    "temp2 = pd.merge(tr3,temp1,on ='uuid', how='inner')\n",
    "traindf = temp2.drop('uuid',axis=1)\n",
    "#traindf.info()\n",
    "\n",
    "label_encode = {\"condition\": {\"no stress\":0, \"interruption\":1, \"time pressure\":1}}\n",
    "traindf.replace(label_encode, inplace=True)\n"
   ]
  },
  {
   "cell_type": "code",
   "execution_count": 7,
   "metadata": {},
   "outputs": [],
   "source": [
    "temp1 = pd.merge(st1, st2, on='uuid', how='inner')\n",
    "temp2 = pd.merge(st3,temp1,on ='uuid', how='inner')\n",
    "testdf = temp2.drop('uuid',axis=1)\n",
    "\n",
    "testdf.replace(label_encode, inplace=True)\n"
   ]
  },
  {
   "cell_type": "code",
   "execution_count": 8,
   "metadata": {},
   "outputs": [],
   "source": [
    "#traindf.info() #col 36\n",
    "#testdf.info()  #col 35\n",
    "#for i in traindf.columns :\n",
    "#    if i not in testdf.columns :\n",
    "#        print(i)        #HR\n",
    "\n",
    "traindf = traindf.drop('HR',axis=1)"
   ]
  },
  {
   "cell_type": "code",
   "execution_count": 9,
   "metadata": {},
   "outputs": [],
   "source": [
    "trainY = traindf.iloc[:,34]\n",
    "trainX = traindf.iloc[:,:34]\n",
    "trainX = standardise.fit_transform(trainX)\n",
    "trainY = pd.DataFrame(trainY)\n",
    "\n",
    "trainX, valX, trainY, valY = train_test_split(trainX, trainY, test_size=0.2, random_state=12321)\n",
    "\n",
    "testY_ans = testdf.iloc[:,34]\n",
    "testX = testdf.iloc[:,:34]\n",
    "testX = standardise.fit_transform(testX)\n",
    "testY = pd.DataFrame(testY_ans)"
   ]
  },
  {
   "cell_type": "markdown",
   "metadata": {},
   "source": [
    "#SVM"
   ]
  },
  {
   "cell_type": "code",
   "execution_count": 30,
   "metadata": {},
   "outputs": [],
   "source": [
    "#import sklearn.svm as svm\n",
    "\n"
   ]
  },
  {
   "cell_type": "markdown",
   "metadata": {},
   "source": [
    "#ANN"
   ]
  },
  {
   "cell_type": "code",
   "execution_count": 10,
   "metadata": {},
   "outputs": [
    {
     "name": "stderr",
     "output_type": "stream",
     "text": [
      "c:\\Users\\user\\anaconda3\\Lib\\site-packages\\keras\\src\\layers\\core\\dense.py:86: UserWarning: Do not pass an `input_shape`/`input_dim` argument to a layer. When using Sequential models, prefer using an `Input(shape)` object as the first layer in the model instead.\n",
      "  super().__init__(activity_regularizer=activity_regularizer, **kwargs)\n"
     ]
    },
    {
     "name": "stdout",
     "output_type": "stream",
     "text": [
      "Epoch 1/20\n",
      "\u001b[1m9233/9233\u001b[0m \u001b[32m━━━━━━━━━━━━━━━━━━━━\u001b[0m\u001b[37m\u001b[0m \u001b[1m14s\u001b[0m 1ms/step - accuracy: 0.8523 - loss: 0.1128 - val_accuracy: 0.9634 - val_loss: 0.0412\n",
      "Epoch 2/20\n",
      "\u001b[1m9233/9233\u001b[0m \u001b[32m━━━━━━━━━━━━━━━━━━━━\u001b[0m\u001b[37m\u001b[0m \u001b[1m13s\u001b[0m 1ms/step - accuracy: 0.9729 - loss: 0.0344 - val_accuracy: 0.9732 - val_loss: 0.0317\n",
      "Epoch 3/20\n",
      "\u001b[1m9233/9233\u001b[0m \u001b[32m━━━━━━━━━━━━━━━━━━━━\u001b[0m\u001b[37m\u001b[0m \u001b[1m13s\u001b[0m 1ms/step - accuracy: 0.9838 - loss: 0.0233 - val_accuracy: 0.9869 - val_loss: 0.0164\n",
      "Epoch 4/20\n",
      "\u001b[1m9233/9233\u001b[0m \u001b[32m━━━━━━━━━━━━━━━━━━━━\u001b[0m\u001b[37m\u001b[0m \u001b[1m12s\u001b[0m 1ms/step - accuracy: 0.9872 - loss: 0.0153 - val_accuracy: 0.9902 - val_loss: 0.0112\n",
      "Epoch 5/20\n",
      "\u001b[1m9233/9233\u001b[0m \u001b[32m━━━━━━━━━━━━━━━━━━━━\u001b[0m\u001b[37m\u001b[0m \u001b[1m13s\u001b[0m 1ms/step - accuracy: 0.9876 - loss: 0.0128 - val_accuracy: 0.9776 - val_loss: 0.0194\n",
      "Epoch 6/20\n",
      "\u001b[1m9233/9233\u001b[0m \u001b[32m━━━━━━━━━━━━━━━━━━━━\u001b[0m\u001b[37m\u001b[0m \u001b[1m21s\u001b[0m 2ms/step - accuracy: 0.9893 - loss: 0.0102 - val_accuracy: 0.9874 - val_loss: 0.0118\n",
      "Epoch 7/20\n",
      "\u001b[1m9233/9233\u001b[0m \u001b[32m━━━━━━━━━━━━━━━━━━━━\u001b[0m\u001b[37m\u001b[0m \u001b[1m20s\u001b[0m 2ms/step - accuracy: 0.9892 - loss: 0.0097 - val_accuracy: 0.9883 - val_loss: 0.0106\n",
      "Epoch 8/20\n",
      "\u001b[1m9233/9233\u001b[0m \u001b[32m━━━━━━━━━━━━━━━━━━━━\u001b[0m\u001b[37m\u001b[0m \u001b[1m20s\u001b[0m 2ms/step - accuracy: 0.9903 - loss: 0.0086 - val_accuracy: 0.9931 - val_loss: 0.0064\n",
      "Epoch 9/20\n",
      "\u001b[1m9233/9233\u001b[0m \u001b[32m━━━━━━━━━━━━━━━━━━━━\u001b[0m\u001b[37m\u001b[0m \u001b[1m21s\u001b[0m 2ms/step - accuracy: 0.9912 - loss: 0.0077 - val_accuracy: 0.9949 - val_loss: 0.0050\n",
      "Epoch 10/20\n",
      "\u001b[1m9233/9233\u001b[0m \u001b[32m━━━━━━━━━━━━━━━━━━━━\u001b[0m\u001b[37m\u001b[0m \u001b[1m20s\u001b[0m 2ms/step - accuracy: 0.9927 - loss: 0.0063 - val_accuracy: 0.9953 - val_loss: 0.0040\n",
      "Epoch 11/20\n",
      "\u001b[1m9233/9233\u001b[0m \u001b[32m━━━━━━━━━━━━━━━━━━━━\u001b[0m\u001b[37m\u001b[0m \u001b[1m19s\u001b[0m 2ms/step - accuracy: 0.9936 - loss: 0.0055 - val_accuracy: 0.9954 - val_loss: 0.0039\n",
      "Epoch 12/20\n",
      "\u001b[1m9233/9233\u001b[0m \u001b[32m━━━━━━━━━━━━━━━━━━━━\u001b[0m\u001b[37m\u001b[0m \u001b[1m14s\u001b[0m 2ms/step - accuracy: 0.9933 - loss: 0.0058 - val_accuracy: 0.9946 - val_loss: 0.0043\n",
      "Epoch 13/20\n",
      "\u001b[1m9233/9233\u001b[0m \u001b[32m━━━━━━━━━━━━━━━━━━━━\u001b[0m\u001b[37m\u001b[0m \u001b[1m13s\u001b[0m 1ms/step - accuracy: 0.9943 - loss: 0.0049 - val_accuracy: 0.9957 - val_loss: 0.0039\n",
      "Epoch 14/20\n",
      "\u001b[1m9233/9233\u001b[0m \u001b[32m━━━━━━━━━━━━━━━━━━━━\u001b[0m\u001b[37m\u001b[0m \u001b[1m14s\u001b[0m 2ms/step - accuracy: 0.9946 - loss: 0.0047 - val_accuracy: 0.9964 - val_loss: 0.0031\n",
      "Epoch 15/20\n",
      "\u001b[1m9233/9233\u001b[0m \u001b[32m━━━━━━━━━━━━━━━━━━━━\u001b[0m\u001b[37m\u001b[0m \u001b[1m14s\u001b[0m 2ms/step - accuracy: 0.9951 - loss: 0.0044 - val_accuracy: 0.9960 - val_loss: 0.0035\n",
      "Epoch 16/20\n",
      "\u001b[1m9233/9233\u001b[0m \u001b[32m━━━━━━━━━━━━━━━━━━━━\u001b[0m\u001b[37m\u001b[0m \u001b[1m15s\u001b[0m 2ms/step - accuracy: 0.9948 - loss: 0.0046 - val_accuracy: 0.9894 - val_loss: 0.0079\n",
      "Epoch 17/20\n",
      "\u001b[1m9233/9233\u001b[0m \u001b[32m━━━━━━━━━━━━━━━━━━━━\u001b[0m\u001b[37m\u001b[0m \u001b[1m14s\u001b[0m 2ms/step - accuracy: 0.9953 - loss: 0.0042 - val_accuracy: 0.9910 - val_loss: 0.0083\n",
      "Epoch 18/20\n",
      "\u001b[1m9233/9233\u001b[0m \u001b[32m━━━━━━━━━━━━━━━━━━━━\u001b[0m\u001b[37m\u001b[0m \u001b[1m15s\u001b[0m 2ms/step - accuracy: 0.9956 - loss: 0.0039 - val_accuracy: 0.9973 - val_loss: 0.0025\n",
      "Epoch 19/20\n",
      "\u001b[1m9233/9233\u001b[0m \u001b[32m━━━━━━━━━━━━━━━━━━━━\u001b[0m\u001b[37m\u001b[0m \u001b[1m14s\u001b[0m 2ms/step - accuracy: 0.9952 - loss: 0.0041 - val_accuracy: 0.9969 - val_loss: 0.0028\n",
      "Epoch 20/20\n",
      "\u001b[1m9233/9233\u001b[0m \u001b[32m━━━━━━━━━━━━━━━━━━━━\u001b[0m\u001b[37m\u001b[0m \u001b[1m15s\u001b[0m 2ms/step - accuracy: 0.9954 - loss: 0.0040 - val_accuracy: 0.9968 - val_loss: 0.0028\n",
      "\u001b[1m1283/1283\u001b[0m \u001b[32m━━━━━━━━━━━━━━━━━━━━\u001b[0m\u001b[37m\u001b[0m \u001b[1m1s\u001b[0m 836us/step - accuracy: 0.9966 - loss: 0.0029\n",
      "\u001b[1m1283/1283\u001b[0m \u001b[32m━━━━━━━━━━━━━━━━━━━━\u001b[0m\u001b[37m\u001b[0m \u001b[1m2s\u001b[0m 1ms/step\n"
     ]
    },
    {
     "name": "stderr",
     "output_type": "stream",
     "text": [
      "WARNING:absl:You are saving your model as an HDF5 file via `model.save()` or `keras.saving.save_model(model)`. This file format is considered legacy. We recommend using instead the native Keras format, e.g. `model.save('my_model.keras')` or `keras.saving.save_model(model, 'my_model.keras')`. \n"
     ]
    },
    {
     "name": "stdout",
     "output_type": "stream",
     "text": [
      "MAE : 0.012257\n",
      "MSE : 0.003181\n",
      "R^2 : 0.987195\n"
     ]
    }
   ],
   "source": [
    "model = Sequential()\n",
    "model.add(Dense(20,input_dim=34,activation='relu'))\n",
    "model.add(Dense(12,activation='relu'))\n",
    "model.add(Dense(8,activation='relu'))\n",
    "model.add(Dense(4,activation='relu'))\n",
    "model.add(Dense(1))\n",
    "\n",
    "model.compile(optimizer='adam',loss='mean_squared_error',metrics=['accuracy'])\n",
    "\n",
    "model.fit(trainX,trainY,epochs=20,shuffle=True, verbose=1, validation_data=(valX,valY))\n",
    "\n",
    "test_loss, test_accuracy = model.evaluate(testX, testY)\n",
    "predY = model.predict(testX)\n",
    "mae = mean_absolute_error(testY, predY)\n",
    "mse = mean_squared_error(testY, predY)\n",
    "r2 = r2_score(testY, predY)\n",
    "print(f'MAE : {mae:4f}')\n",
    "print(f'MSE : {mse:4f}')\n",
    "print(f'R^2 : {r2:4f}')\n",
    "\n",
    "m_name = 'ANN_heartrate' + str(round(test_accuracy,3)) + '.h5'\n",
    "model.save('./saved_models/' + m_name)\n"
   ]
  },
  {
   "cell_type": "code",
   "execution_count": 11,
   "metadata": {},
   "outputs": [
    {
     "name": "stderr",
     "output_type": "stream",
     "text": [
      "WARNING:absl:You are saving your model as an HDF5 file via `model.save()` or `keras.saving.save_model(model)`. This file format is considered legacy. We recommend using instead the native Keras format, e.g. `model.save('my_model.keras')` or `keras.saving.save_model(model, 'my_model.keras')`. \n"
     ]
    }
   ],
   "source": [
    "'''m_name = 'ANN_heartrate' + str(round(test_accuracy,3)) + '.h5'\n",
    "model.save('./saved_models/' + m_name)'''"
   ]
  },
  {
   "cell_type": "code",
   "execution_count": 18,
   "metadata": {},
   "outputs": [
    {
     "name": "stdout",
     "output_type": "stream",
     "text": [
      "F1 : 0.995894\n"
     ]
    }
   ],
   "source": [
    "binY = (predY > 0.5).astype(int)\n",
    "f1 = f1_score(testY, binY)\n",
    "print(f'F1 : {f1:4f}')"
   ]
  },
  {
   "cell_type": "code",
   "execution_count": 19,
   "metadata": {},
   "outputs": [
    {
     "data": {
      "text/plain": [
       "array([[22081,    77],\n",
       "       [   78, 18797]], dtype=int64)"
      ]
     },
     "execution_count": 19,
     "metadata": {},
     "output_type": "execute_result"
    }
   ],
   "source": [
    "from sklearn.metrics import confusion_matrix\n",
    "confusion_matrix(testY, binY)"
   ]
  },
  {
   "cell_type": "code",
   "execution_count": 23,
   "metadata": {},
   "outputs": [
    {
     "name": "stdout",
     "output_type": "stream",
     "text": [
      "정밀 :  0.9959203136590018 \n",
      " 재현 :  0.9958675496688741\n"
     ]
    }
   ],
   "source": [
    "from sklearn.metrics import precision_score, recall_score\n",
    "print('정밀 : ',precision_score(testY, binY),'\\n','재현 : ', recall_score(testY, binY))"
   ]
  },
  {
   "cell_type": "code",
   "execution_count": 24,
   "metadata": {},
   "outputs": [
    {
     "data": {
      "text/plain": [
       "<Axes: xlabel='Predicted', ylabel='Actual'>"
      ]
     },
     "execution_count": 24,
     "metadata": {},
     "output_type": "execute_result"
    },
    {
     "data": {
      "image/png": "[encoded data removed]",
      "text/plain": [
       "<Figure size 640x480 with 2 Axes>"
      ]
     },
     "metadata": {},
     "output_type": "display_data"
    }
   ],
   "source": [
    "import seaborn as sns\n",
    "df = pd.DataFrame()\n",
    "\n",
    "# 데이터 프레임 내에서 새 열 만들기\n",
    "df['Actual'] = testY\n",
    "df['Predicted'] = binY\n",
    "\n",
    "# pd.crosstab을 사용하여 실제 및 예측된 클래스의 빈도 계산\n",
    "freq = pd.crosstab(df.Actual,df.Predicted)\n",
    "\n",
    "# sns.heatmap을 사용하여 히트맵 그리기\n",
    "sns.heatmap(freq,annot=True,fmt=\"d\")"
   ]
  }
 ],
 "metadata": {
  "kernelspec": {
   "display_name": "base",
   "language": "python",
   "name": "python3"
  },
  "language_info": {
   "codemirror_mode": {
    "name": "ipython",
    "version": 3
   },
   "file_extension": ".py",
   "mimetype": "text/x-python",
   "name": "python",
   "nbconvert_exporter": "python",
   "pygments_lexer": "ipython3",
   "version": "3.11.7"
  }
 },
 "nbformat": 4,
 "nbformat_minor": 2
}
