{
 "cells": [
  {
   "cell_type": "code",
   "execution_count": 1,
   "metadata": {},
   "outputs": [],
   "source": [
    "#import packages\n",
    "import os\n",
    "import numpy as np\n",
    "import pandas as pd\n",
    "import tensorflow as tf\n",
    "import csv\n",
    "\n",
    "from tensorflow import keras\n",
    "from tensorflow.keras.utils import to_categorical\n",
    "\n",
    "from keras.models import Sequential\n",
    "from keras.layers import Dense\n",
    "from sklearn.model_selection import train_test_split\n",
    "\n",
    "import matplotlib.pyplot as plt\n",
    "import scipy.stats as stats\n",
    "\n",
    "from sklearn import linear_model\n",
    "from sklearn.metrics import r2_score\n",
    "from sklearn.tree import DecisionTreeClassifier\n"
   ]
  },
  {
   "cell_type": "code",
   "execution_count": 6,
   "metadata": {},
   "outputs": [
    {
     "name": "stdout",
     "output_type": "stream",
     "text": [
      "<class 'pandas.core.frame.DataFrame'>\n",
      "RangeIndex: 637 entries, 0 to 636\n",
      "Data columns (total 29 columns):\n",
      " #   Column                       Non-Null Count  Dtype \n",
      "---  ------                       --------------  ----- \n",
      " 0   ag+1:629e                    637 non-null    int64 \n",
      " 1   feeling.nervous              637 non-null    int64 \n",
      " 2   panic                        637 non-null    int64 \n",
      " 3   breathing.rapidly            637 non-null    int64 \n",
      " 4   sweating                     637 non-null    int64 \n",
      " 5   trouble.in.concentration     637 non-null    int64 \n",
      " 6   having.trouble.in.sleeping   637 non-null    int64 \n",
      " 7   having.trouble.with.work     637 non-null    int64 \n",
      " 8   hopelessness                 637 non-null    int64 \n",
      " 9   anger                        637 non-null    int64 \n",
      " 10  over.react                   637 non-null    int64 \n",
      " 11  change.in.eating             637 non-null    int64 \n",
      " 12  suicidal.thought             637 non-null    int64 \n",
      " 13  feeling.tired                637 non-null    int64 \n",
      " 14  close.friend                 637 non-null    int64 \n",
      " 15  social.media.addiction       637 non-null    int64 \n",
      " 16  weight.gain                  637 non-null    int64 \n",
      " 17  introvert                    637 non-null    int64 \n",
      " 18  popping.up.stressful.memory  637 non-null    int64 \n",
      " 19  having.nightmares            637 non-null    int64 \n",
      " 20  avoids.people.or.activities  637 non-null    int64 \n",
      " 21  feeling.negative             637 non-null    int64 \n",
      " 22  trouble.concentrating        637 non-null    int64 \n",
      " 23  blamming.yourself            637 non-null    int64 \n",
      " 24  hallucinations               637 non-null    int64 \n",
      " 25  repetitive.behaviour         637 non-null    int64 \n",
      " 26  seasonally                   637 non-null    int64 \n",
      " 27  increased.energy             637 non-null    int64 \n",
      " 28  Disorder                     637 non-null    object\n",
      "dtypes: int64(28), object(1)\n",
      "memory usage: 144.4+ KB\n"
     ]
    }
   ],
   "source": [
    "#Read Csv File, Ignore Error Line\n",
    "\n",
    "df = pd.read_excel('C:/Users/user/Desktop/WD/ton/symptoms.xlsx')\n",
    "df.info()"
   ]
  },
  {
   "cell_type": "code",
   "execution_count": 10,
   "metadata": {},
   "outputs": [],
   "source": [
    "symptom_list = df.columns\n",
    "disorder_list = df['Disorder'].unique()"
   ]
  },
  {
   "cell_type": "code",
   "execution_count": 8,
   "metadata": {},
   "outputs": [
    {
     "name": "stdout",
     "output_type": "stream",
     "text": [
      "<class 'pandas.core.frame.DataFrame'>\n",
      "Int64Index: 46 entries, 5 to 622\n",
      "Data columns (total 29 columns):\n",
      " #   Column                       Non-Null Count  Dtype \n",
      "---  ------                       --------------  ----- \n",
      " 0   ag+1:629e                    46 non-null     int64 \n",
      " 1   feeling.nervous              46 non-null     int64 \n",
      " 2   panic                        46 non-null     int64 \n",
      " 3   breathing.rapidly            46 non-null     int64 \n",
      " 4   sweating                     46 non-null     int64 \n",
      " 5   trouble.in.concentration     46 non-null     int64 \n",
      " 6   having.trouble.in.sleeping   46 non-null     int64 \n",
      " 7   having.trouble.with.work     46 non-null     int64 \n",
      " 8   hopelessness                 46 non-null     int64 \n",
      " 9   anger                        46 non-null     int64 \n",
      " 10  over.react                   46 non-null     int64 \n",
      " 11  change.in.eating             46 non-null     int64 \n",
      " 12  suicidal.thought             46 non-null     int64 \n",
      " 13  feeling.tired                46 non-null     int64 \n",
      " 14  close.friend                 46 non-null     int64 \n",
      " 15  social.media.addiction       46 non-null     int64 \n",
      " 16  weight.gain                  46 non-null     int64 \n",
      " 17  introvert                    46 non-null     int64 \n",
      " 18  popping.up.stressful.memory  46 non-null     int64 \n",
      " 19  having.nightmares            46 non-null     int64 \n",
      " 20  avoids.people.or.activities  46 non-null     int64 \n",
      " 21  feeling.negative             46 non-null     int64 \n",
      " 22  trouble.concentrating        46 non-null     int64 \n",
      " 23  blamming.yourself            46 non-null     int64 \n",
      " 24  hallucinations               46 non-null     int64 \n",
      " 25  repetitive.behaviour         46 non-null     int64 \n",
      " 26  seasonally                   46 non-null     int64 \n",
      " 27  increased.energy             46 non-null     int64 \n",
      " 28  Disorder                     46 non-null     object\n",
      "dtypes: int64(28), object(1)\n",
      "memory usage: 10.8+ KB\n"
     ]
    }
   ],
   "source": [
    "k = df[df['Disorder']=='PTSD']\n",
    "k.info()\n"
   ]
  },
  {
   "cell_type": "code",
   "execution_count": 9,
   "metadata": {},
   "outputs": [],
   "source": [
    "k.to_csv('PTSD.csv')"
   ]
  },
  {
   "cell_type": "code",
   "execution_count": 16,
   "metadata": {},
   "outputs": [],
   "source": [
    "#k.isna().any()"
   ]
  },
  {
   "cell_type": "markdown",
   "metadata": {},
   "source": [
    "ag+1:629e                      False\n",
    "# feeling.nervous                False    (긴장감)\n",
    "panic                          False    (공황 상태)\n",
    "#breathing.rapidly              False    (빠른 호흡)\n",
    "sweating                       False    (땀)\n",
    "# trouble.in.concentration       False    (특정 상황에서 집중 어려움, 경미 혹은 일시적)\n",
    "# having.trouble.in.sleeping     False    (수면 어려움)\n",
    "# having.trouble.with.work       False    (일이나 학업 어려움)\n",
    "hopelessness                   False    (절망감)\n",
    "anger                          False    (분노)\n",
    "# over.react                     False    (과민반응)\n",
    "change.in.eating               False    (식습관 변화)\n",
    "# suicidal.thought               False    (자살 생각)\n",
    "feeling.tired                  False    (피로감)\n",
    "close.friend                   False    (친한 친구)\n",
    "social.media.addiction         False    (SNS 중독)\n",
    "weight.gain                    False    (체중 증가)\n",
    "introvert                      False    (내향적 성격)\n",
    "#popping.up.stressful.memory    False    (스트레스 기억 자주 떠오르는지)\n",
    "# having.nightmares              False    (악몽)\n",
    "# avoids.people.or.activities    False    (사람이나 활동 회피)\n",
    "# feeling.negative               False    (부정적 감정)\n",
    "# trouble.concentrating          False    (일상적으로 집중 어려움, 심각, 지속적)\n",
    "blamming.yourself              False    (자신을 비난하는지)\n",
    "# hallucinations                 False    (환각)\n",
    "# repetitive.behaviour           False    (반복적 행동)\n",
    "seasonally                     False    (계절에 따른 증상 변화)\n",
    "increased.energy               False    (에너지 증가)\n",
    "Disorder                       False    (정신질환)\n",
    "dtype: bool"
   ]
  },
  {
   "cell_type": "code",
   "execution_count": 15,
   "metadata": {},
   "outputs": [
    {
     "data": {
      "text/plain": [
       "Index(['ag+1:629e', 'feeling.nervous', 'panic', 'breathing.rapidly',\n",
       "       'sweating', 'trouble.in.concentration', 'having.trouble.in.sleeping',\n",
       "       'having.trouble.with.work', 'hopelessness', 'anger', 'over.react',\n",
       "       'change.in.eating', 'suicidal.thought', 'feeling.tired', 'close.friend',\n",
       "       'social.media.addiction', 'weight.gain', 'introvert',\n",
       "       'popping.up.stressful.memory', 'having.nightmares',\n",
       "       'avoids.people.or.activities', 'feeling.negative',\n",
       "       'trouble.concentrating', 'blamming.yourself', 'hallucinations',\n",
       "       'repetitive.behaviour', 'seasonally', 'increased.energy', 'Disorder'],\n",
       "      dtype='object')"
      ]
     },
     "execution_count": 15,
     "metadata": {},
     "output_type": "execute_result"
    }
   ],
   "source": [
    "k.columns"
   ]
  },
  {
   "cell_type": "code",
   "execution_count": 11,
   "metadata": {},
   "outputs": [],
   "source": [
    "temp = []\n",
    "for i in range(0,28) :\n",
    "#    num = sum(list(k.iloc[:,[i]]))    \n",
    "#    print(i,num)\n",
    "    temp.append(k.iloc[:,[i]])"
   ]
  },
  {
   "cell_type": "code",
   "execution_count": 37,
   "metadata": {},
   "outputs": [
    {
     "data": {
      "text/plain": [
       "24"
      ]
     },
     "execution_count": 37,
     "metadata": {},
     "output_type": "execute_result"
    }
   ],
   "source": [
    "sum(temp[1]['feeling.nervous'])"
   ]
  },
  {
   "cell_type": "code",
   "execution_count": null,
   "metadata": {},
   "outputs": [],
   "source": []
  }
 ],
 "metadata": {
  "kernelspec": {
   "display_name": "base",
   "language": "python",
   "name": "python3"
  },
  "language_info": {
   "codemirror_mode": {
    "name": "ipython",
    "version": 3
   },
   "file_extension": ".py",
   "mimetype": "text/x-python",
   "name": "python",
   "nbconvert_exporter": "python",
   "pygments_lexer": "ipython3",
   "version": "3.11.7"
  }
 },
 "nbformat": 4,
 "nbformat_minor": 2
}
